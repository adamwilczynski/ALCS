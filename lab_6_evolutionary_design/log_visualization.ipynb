{
 "cells": [
  {
   "cell_type": "code",
   "execution_count": null,
   "metadata": {
    "collapsed": true
   },
   "outputs": [],
   "source": [
    "import pandas as pd\n",
    "import matplotlib.pyplot as plt\n",
    "import seaborn as snsb"
   ]
  },
  {
   "cell_type": "code",
   "execution_count": 9,
   "outputs": [],
   "source": [
    "def get_log():\n",
    "    with open(\"log_before_modification.txt\") as f:\n",
    "        return f.readlines()\n",
    "\n",
    "def get_log_start_index(log_file_text_line_list: str) -> [int]:\n",
    "    return [i for i, row in enumerate(log_file_text_line_list) if row.startswith(\"1 \")]\n",
    "\n",
    "def split_log(log_file_text_line_list: str) -> [str]:\n",
    "    log_split = []\n",
    "    log_start_index_list = get_log_start_index(log_file_text_line_list)\n",
    "    for index in log_start_index_list[:-1]:\n",
    "        log_split.append(log_file_text_line_list[index:log_start_index_list[index+1]])\n",
    "    log_split.append(log_file_text_line_list[log_start_index_list[-1]:])\n",
    "\n",
    "log_start_index = get_log_start_index(logs_before_modification_text)\n",
    "assert len(log_start_index) == 10\n"
   ],
   "metadata": {
    "collapsed": false
   }
  },
  {
   "cell_type": "code",
   "execution_count": null,
   "outputs": [],
   "source": [],
   "metadata": {
    "collapsed": false
   }
  }
 ],
 "metadata": {
  "kernelspec": {
   "display_name": "Python 3",
   "language": "python",
   "name": "python3"
  },
  "language_info": {
   "codemirror_mode": {
    "name": "ipython",
    "version": 2
   },
   "file_extension": ".py",
   "mimetype": "text/x-python",
   "name": "python",
   "nbconvert_exporter": "python",
   "pygments_lexer": "ipython2",
   "version": "2.7.6"
  }
 },
 "nbformat": 4,
 "nbformat_minor": 0
}
